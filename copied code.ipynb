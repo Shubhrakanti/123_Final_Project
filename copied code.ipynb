{
 "cells": [
  {
   "cell_type": "code",
   "execution_count": 1,
   "metadata": {},
   "outputs": [],
   "source": [
    "import numpy as np\n",
    "import matplotlib.pyplot as plt\n",
    "import scipy\n",
    "import os\n",
    "\n",
    "from numpy import pi\n",
    "from numpy import sin\n",
    "from numpy import zeros\n",
    "from numpy import r_\n",
    "from scipy import signal\n",
    "from scipy import misc # pip install Pillow\n",
    "# import imageio\n",
    "import matplotlib.pylab as pylab\n",
    "from PIL import Image\n",
    "import tarfile\n",
    "import bz2\n",
    "import zipfile\n",
    "\n",
    "%matplotlib inline\n",
    "pylab.rcParams['figure.figsize'] = (20.0, 7.0)"
   ]
  },
  {
   "cell_type": "code",
   "execution_count": 2,
   "metadata": {},
   "outputs": [],
   "source": [
    "#### Global Variables\n",
    "\n",
    "\n",
    "\n",
    "rgb_to_YCbCr = np.array([[0.29900, 0.58700, 0.11400],\n",
    "                       [-0.16874, -0.33126, 0.50000],\n",
    "                       [0.50000, -0.41869, -0.08131]])\n",
    "\n",
    "YCbCr_to_rgb = np.linalg.inv(rgb_to_YCbCr)\n",
    "\n",
    "\n",
    "###common qunatizing matrices for dct \n",
    "\n",
    "Ql = np.array( [[16,12,14,14,18, 24, 49, 72],\n",
    "                [11, 12, 13, 17, 22, 35, 64, 92],\n",
    "                [10, 14, 16, 22, 37, 55, 78, 95],\n",
    "                [16, 19, 24, 29, 56, 64, 87, 98],\n",
    "                [24, 26, 40, 51, 68, 81, 103, 112],\n",
    "                [40, 58, 57, 87, 109, 104, 121, 100],\n",
    "                [51, 60, 69, 80, 103, 113, 120, 103],\n",
    "                [61, 55, 56, 62, 77, 92, 101, 99]]\n",
    "                ).T\n",
    "\n",
    "Qc = np.array([[17, 18, 24, 47, 99, 99, 99, 99],\n",
    "              [18, 21, 26, 66, 99, 99, 99, 99],\n",
    "              [24, 26, 56, 99, 99, 99, 99, 99],\n",
    "              [47, 66, 99, 99, 99, 99, 99, 99],\n",
    "              [99, 99, 99, 99, 99, 99, 99, 99],\n",
    "              [99, 99, 99, 99, 99, 99, 99, 99],\n",
    "              [99, 99, 99, 99, 99, 99, 99, 99],\n",
    "              [99, 99, 99, 99, 99, 99, 99, 99]]).T"
   ]
  },
  {
   "cell_type": "code",
   "execution_count": null,
   "metadata": {},
   "outputs": [],
   "source": []
  }
 ],
 "metadata": {
  "kernelspec": {
   "display_name": "Python 3",
   "language": "python",
   "name": "python3"
  },
  "language_info": {
   "codemirror_mode": {
    "name": "ipython",
    "version": 3
   },
   "file_extension": ".py",
   "mimetype": "text/x-python",
   "name": "python",
   "nbconvert_exporter": "python",
   "pygments_lexer": "ipython3",
   "version": "3.6.4"
  }
 },
 "nbformat": 4,
 "nbformat_minor": 2
}
