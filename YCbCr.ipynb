{
 "cells": [
  {
   "cell_type": "code",
   "execution_count": 1,
   "metadata": {},
   "outputs": [],
   "source": [
    "import skvideo.io\n",
    "import numpy as np\n",
    "import scipy as sp\n",
    "import matplotlib.pyplot as plt\n",
    "\n",
    "video = np.array(skvideo.io.vread(\"Rolling.png\"))\n",
    "\n",
    "\n",
    "# #input video is in format [frame, y, x, (r, g, b)] (starting from left top as 0, 0)\n",
    "# def video_RGB_to_YCbCr(rbgvideo):\n",
    "    \n",
    "    \n",
    "#     frames = rbgvideo.shape[0]\n",
    "#     height = rbgvideo.shape[1]\n",
    "#     width = rbgvideo.shape[2]\n",
    "#     YCbCr_video = np.zeros(rbgvideo.shape)\n",
    "    \n",
    "    \n",
    "#     for k in range(frames):\n",
    "#         for j in range(height):\n",
    "#             for i in range(width):\n",
    "#                 Y,Cb,Cr = RGBpixelconverter(rbgvideo[k,j,i,:])\n",
    "#                 YCbCr_video[k,j,i,0] = Y\n",
    "#                 YCbCr_video[k,j,i,1] = Cb\n",
    "#                 YCbCr_video[k,j,i,2] = Cr\n",
    "            \n",
    "#     return YCbCr_video\n",
    "\n",
    "# #input video is in format [frame, y, x, (r, g, b)] (starting from left top as 0, 0)\n",
    "# def video_YCbCr_to_RGB(YCbCr_video):\n",
    "    \n",
    "    \n",
    "#     frames = YCbCr_video.shape[0]\n",
    "#     height = YCbCr_video.shape[1]\n",
    "#     width = YCbCr_video.shape[2]\n",
    "#     rgb_video = np.zeros(YCbCr_video.shape)\n",
    "    \n",
    "    \n",
    "#     for k in range(frames):\n",
    "#         for j in range(height):\n",
    "#             for i in range(width):\n",
    "#                 R,G,B = YCbCrpixelconverte(YCbCr_video[k,j,i,:])\n",
    "#                 rgb_video[k,j,i,0] = R\n",
    "#                 rgb_video[k,j,i,1] = G\n",
    "#                 rgb_video[k,j,i,2] = B\n",
    "            \n",
    "#     return rgb_video\n",
    "\n",
    "# def RGBpixelconverter(pixel):\n",
    "#     r, g, b = pixel[0], pixel[1], pixel[2]\n",
    "    \n",
    "#     Y = 0.299 * r + 0.587 * g + 0.114 * b\n",
    "#     Cb = -0.169 * r - 0.331 * g + 0.5 * b\n",
    "#     Cr = 0.5 * r - 0.419 * g - 0.081 * b\n",
    "\n",
    "#     return [round(Y), round(Cb), round(Cr)]\n",
    "\n",
    "# def YCbCrpixelconverter(pixel):\n",
    "#     Y, Cb, Cr = pixel[0], pixel[1], pixel[2]\n",
    "    \n",
    "#     r = Y + 1.402  * Cr\n",
    "#     g = Y - 0.344 * Cb - 0.714 * Cr\n",
    "#     b = Y + 1.772 * Cb\n",
    "    \n",
    "#     return [round(r), round(g), round(b)]\n",
    "\n",
    "\n",
    "\n",
    "#fix these, these are copied\n",
    "def rgb2ycbcr(im):\n",
    "    xform = np.array([[.299, .587, .114], [-.1687, -.3313, .5], [.5, -.4187, -.0813]])\n",
    "    ycbcr = im.dot(xform.T)\n",
    "    ycbcr[:,:,[1,2]] += 128\n",
    "    return np.uint8(ycbcr)\n",
    "\n",
    "def ycbcr2rgb(im):\n",
    "    xform = np.array([[1, 0, 1.402], [1, -0.34414, -.71414], [1, 1.772, 0]])\n",
    "    rgb = im.astype(np.float)\n",
    "    rgb[:,:,[1,2]] -= 128\n",
    "    rgb = rgb.dot(xform.T)\n",
    "    np.putmask(rgb, rgb > 255, 255)\n",
    "    np.putmask(rgb, rgb < 0, 0)\n",
    "    return np.uint8(rgb)\n",
    "\n"
   ]
  },
  {
   "cell_type": "code",
   "execution_count": 2,
   "metadata": {},
   "outputs": [],
   "source": [
    "def video_RGB_to_YCbCr(rbgvideo):\n",
    "    \n",
    "    frames = rbgvideo.shape[0]\n",
    "\n",
    "    YCbCr_video = np.zeros(rbgvideo.shape)\n",
    "    \n",
    "    \n",
    "    for k in range(frames):\n",
    "        YCbCr_video[k,:,:,:]  = rgb2ycbcr(rbgvideo[k,:,:,:])\n",
    "\n",
    "            \n",
    "    return YCbCr_video\n",
    "\n",
    "def video_YCbCr_to_RGB(YCbCr_video):\n",
    "    \n",
    "    frames = YCbCr_video.shape[0]\n",
    "\n",
    "    rgb_video = np.zeros(YCbCr_video.shape)\n",
    "    \n",
    "    \n",
    "    for k in range(frames):\n",
    "        rgb_video[k,:,:,:]  = ycbcr2rgb(YCbCr_video[k,:,:,:])\n",
    "\n",
    "            \n",
    "    return rgb_video\n",
    "\n",
    "\n",
    "\n",
    "\n",
    "preproc = video_RGB_to_YCbCr(video)\n"
   ]
  },
  {
   "cell_type": "code",
   "execution_count": 3,
   "metadata": {},
   "outputs": [
    {
     "name": "stdout",
     "output_type": "stream",
     "text": [
      "(13, 42, 52, 3)\n"
     ]
    },
    {
     "data": {
      "image/png": "[encoded data removed]",
      "text/plain": [
       "<Figure size 432x288 with 1 Axes>"
      ]
     },
     "metadata": {
      "needs_background": "light"
     },
     "output_type": "display_data"
    }
   ],
   "source": [
    "plt.imshow(preproc[0,:,:,2])\n",
    "print(preproc.shape)"
   ]
  },
  {
   "cell_type": "code",
   "execution_count": 4,
   "metadata": {},
   "outputs": [
    {
     "name": "stderr",
     "output_type": "stream",
     "text": [
      "Clipping input data to the valid range for imshow with RGB data ([0..1] for floats or [0..255] for integers).\n"
     ]
    },
    {
     "data": {
      "text/plain": [
       "<matplotlib.image.AxesImage at 0x1b4988b9240>"
      ]
     },
     "execution_count": 4,
     "metadata": {},
     "output_type": "execute_result"
    },
    {
     "data": {
      "image/png": "[encoded data removed]",
      "text/plain": [
       "<Figure size 432x288 with 1 Axes>"
      ]
     },
     "metadata": {
      "needs_background": "light"
     },
     "output_type": "display_data"
    }
   ],
   "source": [
    "og = video_YCbCr_to_RGB(preproc)\n",
    "plt.imshow(og[0,:,:,:])"
   ]
  },
  {
   "cell_type": "code",
   "execution_count": 5,
   "metadata": {},
   "outputs": [
    {
     "data": {
      "text/plain": [
       "<matplotlib.image.AxesImage at 0x1b4989230b8>"
      ]
     },
     "execution_count": 5,
     "metadata": {},
     "output_type": "execute_result"
    },
    {
     "data": {
      "image/png": "[encoded data removed]",
      "text/plain": [
       "<Figure size 432x288 with 1 Axes>"
      ]
     },
     "metadata": {
      "needs_background": "light"
     },
     "output_type": "display_data"
    }
   ],
   "source": [
    "plt.imshow(video[0,:,:,:])"
   ]
  },
  {
   "cell_type": "code",
   "execution_count": 12,
   "metadata": {},
   "outputs": [],
   "source": [
    "def rgb2ycbcr(im):\n",
    "    xform = np.array([[.299, .587, .114], [-.1687, -.3313, .5], [.5, -.4187, -.0813]])\n",
    "    ycbcr = im.dot(xform.T)\n",
    "    ycbcr[:,:,[1,2]] += 128\n",
    "    return np.uint8(ycbcr)\n",
    "\n",
    "def ycbcr2rgb(im):\n",
    "    xform = np.array([[1, 0, 1.402], [1, -0.34414, -.71414], [1, 1.772, 0]])\n",
    "    rgb = im.astype(np.float)\n",
    "    rgb[:,:,[1,2]] -= 128\n",
    "    return np.uint8(rgb.dot(xform.T))"
   ]
  },
  {
   "cell_type": "code",
   "execution_count": 13,
   "metadata": {},
   "outputs": [
    {
     "data": {
      "text/plain": [
       "<matplotlib.image.AxesImage at 0x1b498a53390>"
      ]
     },
     "execution_count": 13,
     "metadata": {},
     "output_type": "execute_result"
    },
    {
     "data": {
      "image/png": "[encoded data removed]",
      "text/plain": [
       "<Figure size 432x288 with 1 Axes>"
      ]
     },
     "metadata": {
      "needs_background": "light"
     },
     "output_type": "display_data"
    }
   ],
   "source": [
    "plt.imshow(ycbcr2rgb(rgb2ycbcr(video[1,:,:,:])))"
   ]
  },
  {
   "cell_type": "code",
   "execution_count": null,
   "metadata": {},
   "outputs": [],
   "source": []
  }
 ],
 "metadata": {
  "kernelspec": {
   "display_name": "Python 3",
   "language": "python",
   "name": "python3"
  },
  "language_info": {
   "codemirror_mode": {
    "name": "ipython",
    "version": 3
   },
   "file_extension": ".py",
   "mimetype": "text/x-python",
   "name": "python",
   "nbconvert_exporter": "python",
   "pygments_lexer": "ipython3",
   "version": "3.6.8"
  }
 },
 "nbformat": 4,
 "nbformat_minor": 2
}
